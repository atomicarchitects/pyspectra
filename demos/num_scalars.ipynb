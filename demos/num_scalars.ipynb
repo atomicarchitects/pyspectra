{
 "cells": [
  {
   "cell_type": "code",
   "execution_count": 6,
   "metadata": {},
   "outputs": [],
   "source": [
    "import e3nn_jax as e3nn\n",
    "import chex\n",
    "import jax.numpy as jnp\n",
    "\n",
    "def sum_of_diracs(\n",
    "    vectors: chex.Array, \n",
    "    lmax: int, \n",
    "    values: chex.Array = None\n",
    ") -> e3nn.IrrepsArray:\n",
    "    \"\"\"\n",
    "    Given a set of vectors, computes the sum of Dirac delta functions.\n",
    "\n",
    "    Parameters:\n",
    "        vectors (chex.Array): Input array of vectors.\n",
    "        lmax (int): Maximum degree of spherical harmonics.\n",
    "        values (chex.Array, optional): Values at each vector. \n",
    "            If not provided, the norm of each vector is used.\n",
    "\n",
    "    Returns:\n",
    "        e3nn.IrrepsArray: The sum of Dirac delta functions.\n",
    "    \"\"\"\n",
    "    if values is None:\n",
    "        values = jnp.linalg.norm(vectors, axis=1)\n",
    "    return e3nn.sum(e3nn.s2_dirac(vectors, lmax, p_val=1, p_arg=-1) * values[:, None], axis=0)\n",
    "\n",
    "\n",
    "def powerspectrum(x: e3nn.IrrepsArray) -> jnp.ndarray:\n",
    "    \"\"\"\n",
    "    Computes the power spectrum of an array of irreducible representations.\n",
    "\n",
    "    Parameters:\n",
    "        x (e3nn.IrrepsArray): Input array of irreducible representations.\n",
    "\n",
    "    Returns:\n",
    "        jnp.ndarray: The power spectrum of the input array.\n",
    "    \"\"\"\n",
    "    rtp = e3nn.reduced_symmetric_tensor_product_basis(x.irreps, 2, keep_ir=['0e'])\n",
    "    return e3nn.IrrepsArray(rtp.irreps, jnp.einsum(\"i,j,ijz->z\", x.array, x.array, rtp.array)).array\n",
    "\n",
    "\n",
    "def bispectrum(x: e3nn.IrrepsArray) -> jnp.ndarray:\n",
    "    \"\"\"\n",
    "    Computes the bispectrum of an array of irreducible representations.\n",
    "\n",
    "    Parameters:\n",
    "        x (e3nn.IrrepsArray): Input array of irreps.\n",
    "\n",
    "    Returns:\n",
    "        jnp.ndarray: The bispectrum of the input array.\n",
    "    \"\"\"\n",
    "    rtp = e3nn.reduced_symmetric_tensor_product_basis(x.irreps, 3, keep_ir=['0e'])\n",
    "    return e3nn.IrrepsArray(rtp.irreps, jnp.einsum(\"i,j,k,ijkz->z\", x.array, x.array, x.array, rtp.array)).array\n",
    "\n",
    "\n",
    "def trispectrum(x: e3nn.IrrepsArray) -> jnp.ndarray:\n",
    "    \"\"\"\n",
    "    Computes the trispectrum of an array of irreducible representations.\n",
    "\n",
    "    Parameters:\n",
    "        x (e3nn.IrrepsArray): Input array of irreps.\n",
    "\n",
    "    Returns:\n",
    "        jnp.ndarray: The trispectrum of the input array.\n",
    "    \"\"\"\n",
    "    rtp = e3nn.reduced_symmetric_tensor_product_basis(x.irreps, 4, keep_ir=['0e'])\n",
    "    return e3nn.IrrepsArray(rtp.irreps, jnp.einsum(\"i,j,k,l,ijklz->z\", x.array, x.array, x.array, x.array, rtp.array)).array"
   ]
  },
  {
   "cell_type": "code",
   "execution_count": 7,
   "metadata": {},
   "outputs": [
    {
     "name": "stdout",
     "output_type": "stream",
     "text": [
      "powerspectrum: 1\n",
      "bispectrum: 1\n",
      "trispectrum: 1\n"
     ]
    }
   ],
   "source": [
    "lmax = 0\n",
    "\n",
    "test = jnp.array([[1, 0, 0]])\n",
    "signal = sum_of_diracs(test, lmax)\n",
    "print(f\"powerspectrum: {len(powerspectrum(signal))}\")\n",
    "print(f\"bispectrum: {len(bispectrum(signal))}\")\n",
    "print(f\"trispectrum: {len(trispectrum(signal))}\")"
   ]
  }
 ],
 "metadata": {
  "kernelspec": {
   "display_name": ".venv",
   "language": "python",
   "name": "python3"
  },
  "language_info": {
   "codemirror_mode": {
    "name": "ipython",
    "version": 3
   },
   "file_extension": ".py",
   "mimetype": "text/x-python",
   "name": "python",
   "nbconvert_exporter": "python",
   "pygments_lexer": "ipython3",
   "version": "3.10.16"
  }
 },
 "nbformat": 4,
 "nbformat_minor": 2
}
