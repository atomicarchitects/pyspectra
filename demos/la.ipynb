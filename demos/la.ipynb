{
 "cells": [
  {
   "cell_type": "code",
   "execution_count": 9,
   "metadata": {},
   "outputs": [
    {
     "name": "stderr",
     "output_type": "stream",
     "text": [
      "/home/gridsan/tphung/pyspectra/venv/lib/python3.10/site-packages/tqdm/auto.py:21: TqdmWarning: IProgress not found. Please update jupyter and ipywidgets. See https://ipywidgets.readthedocs.io/en/stable/user_install.html\n",
      "  from .autonotebook import tqdm as notebook_tqdm\n",
      "Retrieving MaterialsDoc documents: 100%|██████████| 1/1 [00:00<00:00, 9198.04it/s]\n",
      "/tmp/ipykernel_3620516/2183569053.py:42: DeprecationWarning: Accessing summary data through MPRester.summary is deprecated. Please use MPRester.materials.summary instead.\n",
      "  material_info = mpr.summary.get_data_by_id(\"mp-571191\")\n",
      "/tmp/ipykernel_3620516/2183569053.py:42: DeprecationWarning: get_data_by_id is deprecated and will be removed soon. Please use the search method instead.\n",
      "  material_info = mpr.summary.get_data_by_id(\"mp-571191\")\n",
      "Retrieving SummaryDoc documents: 100%|██████████| 1/1 [00:00<00:00, 8811.56it/s]"
     ]
    },
    {
     "name": "stdout",
     "output_type": "stream",
     "text": [
      "Successfully saved structure to La2 Zn22_mp-571191.cif\n",
      "Formula: La2 Zn22\n",
      "Space group: ('C2/m', 12)\n",
      "Restored original method\n"
     ]
    },
    {
     "name": "stderr",
     "output_type": "stream",
     "text": [
      "\n"
     ]
    }
   ],
   "source": [
    "import re\n",
    "from datetime import datetime\n",
    "from mp_api.client import MPRester\n",
    "from mp_api.client.core.client import BaseRester\n",
    "\n",
    "# Save the original method for reference\n",
    "original_get_database_version = BaseRester._get_database_version\n",
    "\n",
    "# Define a new version of the method that handles the \".post1\" suffix\n",
    "def patched_get_database_version(endpoint):\n",
    "    import requests\n",
    "    \n",
    "    # Get the version string from the API\n",
    "    date_str = requests.get(url=endpoint + \"heartbeat\").json()[\"db_version\"]\n",
    "    \n",
    "    # Remove any suffix after the date part using regex\n",
    "    match = re.match(r'(\\d{4}\\.\\d{2}\\.\\d{2})', date_str)\n",
    "    if match:\n",
    "        clean_date_str = match.group(1)\n",
    "    else:\n",
    "        # Fallback if regex doesn't match\n",
    "        clean_date_str = date_str.split('.post')[0]\n",
    "    \n",
    "    # Convert the string to a datetime object\n",
    "    date_obj = datetime.strptime(clean_date_str, \"%Y.%m.%d\")\n",
    "    \n",
    "    # Format the datetime object as a string\n",
    "    formatted_date = date_obj.strftime(\"%Y.%m.%d\")\n",
    "    \n",
    "    return formatted_date\n",
    "\n",
    "# Apply the monkey patch\n",
    "BaseRester._get_database_version = staticmethod(patched_get_database_version)\n",
    "\n",
    "# Now try to use MPRester\n",
    "try:\n",
    "    with MPRester(\"8S7xYqj74M8kyiQk35j6eMJxsQxSBpuB\") as mpr:\n",
    "        # Get the structure\n",
    "        structure = mpr.get_structure_by_material_id(\"mp-571191\")\n",
    "        \n",
    "        # Get material info for the filename\n",
    "        material_info = mpr.summary.get_data_by_id(\"mp-571191\")\n",
    "        formula = material_info.formula if hasattr(material_info, \"formula\") else structure.formula\n",
    "        \n",
    "        # Create filename with formula and material ID\n",
    "        filename = f\"{formula}_mp-571191.cif\"\n",
    "        \n",
    "        # Save structure as CIF file\n",
    "        structure.to(fmt=\"cif\", filename=filename)\n",
    "        \n",
    "        print(f\"Successfully saved structure to {filename}\")\n",
    "        print(f\"Formula: {structure.formula}\")\n",
    "        print(f\"Space group: {structure.get_space_group_info()}\")\n",
    "        \n",
    "except Exception as e:\n",
    "    print(f\"Error: {str(e)}\")\n",
    "    \n",
    "finally:\n",
    "    # Restore the original method\n",
    "    BaseRester._get_database_version = original_get_database_version\n",
    "    print(\"Restored original method\")"
   ]
  },
  {
   "cell_type": "code",
   "execution_count": 10,
   "metadata": {},
   "outputs": [
    {
     "data": {
      "text/plain": [
       "Structure Summary\n",
       "Lattice\n",
       "    abc : 6.794769902734973 8.194600587927034 8.194600526339952\n",
       " angles : 80.18766970789726 65.56531395408592 65.56533702620439\n",
       " volume : 378.2044471403803\n",
       "      A : 6.18645427 -0.00348015 2.81010133\n",
       "      B : 3.0910283 7.45890171 1.40064561\n",
       "      C : 0.00078444 -0.00483909 8.19459906\n",
       "    pbc : True True True\n",
       "PeriodicSite: La (3.091, 1.864, 7.554) [0.3744, 0.2506, 0.7506]\n",
       "PeriodicSite: La (6.187, 5.586, 4.851) [0.6256, 0.7494, 0.2494]\n",
       "PeriodicSite: Zn (7.049, 6.209, 7.94) [0.7231, 0.8331, 0.5786]\n",
       "PeriodicSite: Zn (0.0, 0.0, 0.0) [-0.0, 0.0, 0.0]\n",
       "PeriodicSite: Zn (1.464, 0.5837, 2.035) [0.1974, 0.07845, 0.1672]\n",
       "PeriodicSite: Zn (2.141, 3.146, 2.338) [0.1353, 0.4219, 0.1669]\n",
       "PeriodicSite: Zn (3.284, 4.973, 6.23) [0.1974, 0.6672, 0.5785]\n",
       "PeriodicSite: Zn (7.137, 4.305, 10.07) [0.8647, 0.5781, 0.8331]\n",
       "PeriodicSite: Zn (2.899, 4.969, 8.869) [0.1353, 0.6669, 0.9219]\n",
       "PeriodicSite: Zn (3.092, 5.589, 3.447) [0.1253, 0.7496, 0.2496]\n",
       "PeriodicSite: Zn (6.379, 2.482, 3.537) [0.8647, 0.3331, 0.07811]\n",
       "PeriodicSite: Zn (6.186, 1.861, 8.958) [0.8747, 0.2504, 0.7504]\n",
       "PeriodicSite: Zn (5.23, 4.309, 7.841) [0.5563, 0.5784, 0.6672]\n",
       "PeriodicSite: Zn (4.639, 3.728, 2.105) [0.5, 0.5, 0.0]\n",
       "PeriodicSite: Zn (2.229, 1.242, 4.465) [0.2769, 0.1669, 0.4214]\n",
       "PeriodicSite: Zn (5.994, 2.477, 6.176) [0.8026, 0.3328, 0.4215]\n",
       "PeriodicSite: Zn (4.717, 0.5821, 4.872) [0.7231, 0.07859, 0.3331]\n",
       "PeriodicSite: Zn (4.048, 3.141, 4.564) [0.4437, 0.4216, 0.3328]\n",
       "PeriodicSite: Zn (3.959, 1.245, 2.44) [0.5563, 0.1672, 0.07841]\n",
       "PeriodicSite: Zn (4.561, 6.869, 7.533) [0.2769, 0.9214, 0.6669]\n",
       "PeriodicSite: Zn (7.814, 6.867, 10.37) [0.8026, 0.9215, 0.8328]\n",
       "PeriodicSite: Zn (5.32, 6.205, 9.965) [0.4437, 0.8328, 0.9216]\n",
       "PeriodicSite: Zn (0.0003922, -0.00242, 4.097) [-0.0, 0.0, 0.5]\n",
       "PeriodicSite: Zn (1.546, 3.727, 4.798) [-0.0, 0.5, 0.5]"
      ]
     },
     "execution_count": 10,
     "metadata": {},
     "output_type": "execute_result"
    }
   ],
   "source": [
    "structure"
   ]
  },
  {
   "cell_type": "code",
   "execution_count": 12,
   "metadata": {},
   "outputs": [
    {
     "data": {
      "text/plain": [
       "[PeriodicNeighbor: Zn (2.229, 1.242, 4.465) [0.2769, 0.1669, 0.4214],\n",
       " PeriodicNeighbor: Zn (1.47, -0.5904, 6.133) [0.2769, -0.07859, 0.6669],\n",
       " PeriodicNeighbor: Zn (1.465, 0.5788, 10.23) [0.1974, 0.07845, 1.167],\n",
       " PeriodicNeighbor: Zn (0.0007844, -0.004839, 8.195) [0.0, 0.0, 1.0],\n",
       " PeriodicNeighbor: Zn (2.229, -1.253, 8.565) [0.4437, -0.1672, 0.9216],\n",
       " PeriodicNeighbor: Zn (1.546, 3.727, 4.798) [0.0, 0.5, 0.5],\n",
       " PeriodicNeighbor: Zn (-0.0005715, 1.865, 6.148) [-0.1253, 0.2504, 0.7504],\n",
       " PeriodicNeighbor: Zn (0.9507, 4.309, 7.257) [-0.1353, 0.5781, 0.8331],\n",
       " PeriodicNeighbor: Zn (2.142, 3.141, 10.53) [0.1353, 0.4219, 1.167],\n",
       " PeriodicNeighbor: Zn (2.899, 4.969, 8.869) [0.1353, 0.6669, 0.9219],\n",
       " PeriodicNeighbor: Zn (0.1937, 2.48, 8.921) [-0.1353, 0.3331, 1.078],\n",
       " PeriodicNeighbor: Zn (6.187, -0.0059, 6.907) [1.0, 0.0, 0.5],\n",
       " PeriodicNeighbor: Zn (4.717, 0.5821, 4.872) [0.7231, 0.07859, 0.3331],\n",
       " PeriodicNeighbor: Zn (3.958, -1.25, 6.54) [0.7231, -0.1669, 0.5786],\n",
       " PeriodicNeighbor: Zn (3.96, 1.24, 10.63) [0.5563, 0.1672, 1.078],\n",
       " PeriodicNeighbor: Zn (6.186, 1.861, 8.958) [0.8747, 0.2504, 0.7504],\n",
       " PeriodicNeighbor: Zn (4.723, -0.592, 8.97) [0.8026, -0.07845, 0.8328],\n",
       " PeriodicNeighbor: Zn (4.048, 3.141, 4.564) [0.4437, 0.4216, 0.3328],\n",
       " PeriodicNeighbor: Zn (5.994, 2.477, 6.176) [0.8026, 0.3328, 0.4215],\n",
       " PeriodicNeighbor: Zn (3.284, 4.973, 6.23) [0.1974, 0.6672, 0.5785],\n",
       " PeriodicNeighbor: Zn (4.64, 3.723, 10.3) [0.5, 0.5, 1.0],\n",
       " PeriodicNeighbor: Zn (5.23, 4.309, 7.841) [0.5563, 0.5784, 0.6672]]"
      ]
     },
     "execution_count": 12,
     "metadata": {},
     "output_type": "execute_result"
    }
   ],
   "source": [
    "structure.get_neighbors(structure[int(0)], 4)"
   ]
  },
  {
   "cell_type": "code",
   "execution_count": 15,
   "metadata": {},
   "outputs": [],
   "source": [
    "import os\n",
    "import sys\n",
    "from typing import Optional, Union, Callable, Tuple\n",
    "\n",
    "import chex\n",
    "import e3nn_jax as e3nn\n",
    "import jax\n",
    "import jax.numpy as jnp\n",
    "import matplotlib.pyplot as plt\n",
    "import numpy as np\n",
    "import optax\n",
    "import plotly\n",
    "import plotly.graph_objects as go\n",
    "import plotly.subplots as sp\n",
    "\n",
    "# Add src directory to path\n",
    "project_root = os.path.abspath(os.path.join(os.getcwd(), '..'))\n",
    "src_dir = os.path.join(project_root, 'src')\n",
    "sys.path.append(src_dir)\n",
    "\n",
    "from utils.plotters import visualize_geometry, colorplot, visualize_signal\n",
    "from utils.geometries import trigonal_plane, tetrahedron\n",
    "from utils.cutoffs import radial_cutoff, crystalnn_cutoff\n",
    "import spectra\n",
    "\n",
    "# Enable 64-bit precision\n",
    "jax.config.update(\"jax_enable_x64\", True)"
   ]
  },
  {
   "cell_type": "code",
   "execution_count": 19,
   "metadata": {},
   "outputs": [
    {
     "data": {
      "text/plain": [
       "PeriodicSite: La (3.091, 1.864, 7.554) [0.3744, 0.2506, 0.7506]"
      ]
     },
     "execution_count": 19,
     "metadata": {},
     "output_type": "execute_result"
    }
   ],
   "source": []
  },
  {
   "cell_type": "code",
   "execution_count": 20,
   "metadata": {},
   "outputs": [],
   "source": [
    "bispectrum = spectra.Spectra(lmax=4, order=2, cutoff=radial_cutoff(radius=4))\n",
    "\n",
    "bispectrum.load_cif(\"mp-571191.cif\")\n",
    "\n",
    "local_env = bispectrum.get_local_geometry(1)"
   ]
  },
  {
   "cell_type": "code",
   "execution_count": 21,
   "metadata": {},
   "outputs": [
    {
     "data": {
      "text/plain": [
       "22"
      ]
     },
     "execution_count": 21,
     "metadata": {},
     "output_type": "execute_result"
    }
   ],
   "source": [
    "len(local_env)"
   ]
  },
  {
   "cell_type": "code",
   "execution_count": 31,
   "metadata": {},
   "outputs": [],
   "source": [
    "visualize_geometry(local_env, lmax=9).write_html(\"local_geometry.html\")"
   ]
  },
  {
   "cell_type": "code",
   "execution_count": null,
   "metadata": {},
   "outputs": [],
   "source": []
  }
 ],
 "metadata": {
  "kernelspec": {
   "display_name": "venv",
   "language": "python",
   "name": "python3"
  },
  "language_info": {
   "codemirror_mode": {
    "name": "ipython",
    "version": 3
   },
   "file_extension": ".py",
   "mimetype": "text/x-python",
   "name": "python",
   "nbconvert_exporter": "python",
   "pygments_lexer": "ipython3",
   "version": "3.10.12"
  }
 },
 "nbformat": 4,
 "nbformat_minor": 2
}
