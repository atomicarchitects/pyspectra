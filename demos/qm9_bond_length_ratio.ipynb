{
 "cells": [
  {
   "cell_type": "code",
   "execution_count": 1,
   "metadata": {},
   "outputs": [],
   "source": [
    "import pickle\n",
    "import numpy as np\n",
    "\n",
    "with open('../data/qm9_local_envs.pkl', 'rb') as f:\n",
    "    local_envs = pickle.load(f)\n",
    "\n",
    "local_envs = [np.array(local_env) for local_env in local_envs]"
   ]
  },
  {
   "cell_type": "code",
   "execution_count": 6,
   "metadata": {},
   "outputs": [
    {
     "name": "stderr",
     "output_type": "stream",
     "text": [
      "100%|██████████| 1177631/1177631 [00:03<00:00, 354364.67it/s]"
     ]
    },
    {
     "name": "stdout",
     "output_type": "stream",
     "text": [
      "0.5995928845261392\n"
     ]
    },
    {
     "name": "stderr",
     "output_type": "stream",
     "text": [
      "\n"
     ]
    }
   ],
   "source": [
    "from tqdm import tqdm\n",
    "\n",
    "min_bond_length_ratio = np.inf\n",
    "for env in tqdm(local_envs):\n",
    "    bond_lengths = np.linalg.norm(env, axis=1)\n",
    "    bond_length_ratio = min(bond_lengths) / max(bond_lengths)\n",
    "    min_bond_length_ratio = min(min_bond_length_ratio, bond_length_ratio)\n",
    "\n",
    "print(min_bond_length_ratio)"
   ]
  },
  {
   "cell_type": "code",
   "execution_count": 11,
   "metadata": {},
   "outputs": [
    {
     "name": "stderr",
     "output_type": "stream",
     "text": [
      "100%|██████████| 1177631/1177631 [00:16<00:00, 70261.77it/s]"
     ]
    },
    {
     "name": "stdout",
     "output_type": "stream",
     "text": [
      "43.87487115065688\n"
     ]
    },
    {
     "name": "stderr",
     "output_type": "stream",
     "text": [
      "\n"
     ]
    }
   ],
   "source": [
    "from tqdm import tqdm\n",
    "import numpy as np\n",
    "\n",
    "min_angle_degrees = 180.0  # Initialize with maximum possible angle\n",
    "for env in tqdm(local_envs):\n",
    "    # Skip environments with fewer than 2 points\n",
    "    if env.shape[0] < 2:\n",
    "        continue\n",
    "    \n",
    "    # Normalize all vectors (points)\n",
    "    norms = np.linalg.norm(env, axis=1, keepdims=True)\n",
    "    normalized_env = env / norms\n",
    "    \n",
    "    # Calculate all pairwise dot products\n",
    "    dot_products = np.dot(normalized_env, normalized_env.T)\n",
    "    \n",
    "    # Create a mask for the upper triangle (excluding the diagonal)\n",
    "    mask = np.triu(np.ones((env.shape[0], env.shape[0]), dtype=bool), k=1)\n",
    "    \n",
    "    # Find the maximum dot product (which corresponds to the minimum angle)\n",
    "    max_dot_product = np.max(dot_products[mask])\n",
    "    \n",
    "    # Calculate the minimum angle in this environment (in degrees)\n",
    "    # Clip to handle numerical precision issues\n",
    "    clipped_dot_product = np.clip(max_dot_product, -1.0, 1.0)\n",
    "    env_min_angle = np.degrees(np.arccos(clipped_dot_product))\n",
    "    \n",
    "    # Update the overall minimum angle\n",
    "    min_angle_degrees = min(min_angle_degrees, env_min_angle)\n",
    "\n",
    "print(min_angle_degrees)"
   ]
  }
 ],
 "metadata": {
  "kernelspec": {
   "display_name": ".venv",
   "language": "python",
   "name": "python3"
  },
  "language_info": {
   "codemirror_mode": {
    "name": "ipython",
    "version": 3
   },
   "file_extension": ".py",
   "mimetype": "text/x-python",
   "name": "python",
   "nbconvert_exporter": "python",
   "pygments_lexer": "ipython3",
   "version": "3.10.16"
  }
 },
 "nbformat": 4,
 "nbformat_minor": 2
}
