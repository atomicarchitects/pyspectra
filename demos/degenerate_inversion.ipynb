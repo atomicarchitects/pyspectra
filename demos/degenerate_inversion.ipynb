{
 "cells": [
  {
   "cell_type": "code",
   "execution_count": 1,
   "id": "08344252",
   "metadata": {},
   "outputs": [],
   "source": [
    "import os\n",
    "import sys\n",
    "\n",
    "import e3nn_jax as e3nn\n",
    "import jax\n",
    "import jax.numpy as jnp\n",
    "import matplotlib.pyplot as plt\n",
    "import numpy as np\n",
    "import pickle\n",
    "\n",
    "# Add src directory to path\n",
    "project_root = os.path.abspath(os.path.join(os.getcwd(), '..'))\n",
    "src_dir = os.path.join(project_root, 'src')\n",
    "sys.path.append(src_dir)\n",
    "\n",
    "from utils.plotters import visualize_geometry, colorplot, visualize_signal, compare_geometries\n",
    "from utils.geometries import trigonal_plane, tetrahedron, octahedron, icosahedron, dodecahedron\n",
    "from utils.alignment import sample_uniform_quaternion, align_signals, find_best_random_quaternion, rotate_points_quaternion, stack_points, point_distance, spherical_harmonic_distance, stack_points, choose_best_quaternion, evenly_distributed_quaternions, quaternion_rotation_distance, spherical_grid_distance\n",
    "import spectra\n",
    "from spectra import sum_of_diracs, powerspectrum, bispectrum, trispectrum, invert, reconstruct_geometry\n",
    "\n",
    "# Enable 64-bit precision\n",
    "jax.config.update(\"jax_enable_x64\", True)"
   ]
  },
  {
   "cell_type": "code",
   "execution_count": 1,
   "id": "889514c1",
   "metadata": {},
   "outputs": [],
   "source": [
    "import numpy as np\n",
    "\n",
    "def extract_multiple_structures(filename, n_structures=None):\n",
    "    \"\"\"\n",
    "    Extract coordinates from multiple structures in a file.\n",
    "    \n",
    "    Parameters:\n",
    "    -----------\n",
    "    filename : str\n",
    "        Path to the input file\n",
    "    n_structures : int or None\n",
    "        Number of structures to extract. If None, extract all structures.\n",
    "        \n",
    "    Returns:\n",
    "    --------\n",
    "    list of numpy.ndarray\n",
    "        List of coordinate arrays, each with shape (8, 3)\n",
    "    \"\"\"\n",
    "    structures = []\n",
    "    \n",
    "    with open(filename, 'r') as file:\n",
    "        lines = file.readlines()\n",
    "        \n",
    "        # Calculate total number of structures in the file\n",
    "        total_structures = len(lines) // 10\n",
    "        \n",
    "        # If n_structures is not specified or is larger than available,\n",
    "        # use all available structures\n",
    "        if n_structures is None or n_structures > total_structures:\n",
    "            n_structures = total_structures\n",
    "        \n",
    "        # Process each structure\n",
    "        for struct_idx in range(n_structures):\n",
    "            # Calculate the starting line for this structure\n",
    "            start_line = struct_idx * 10\n",
    "            \n",
    "            # Read the number of atoms (should be 8 based on your example)\n",
    "            n_atoms = int(lines[start_line].strip())\n",
    "            \n",
    "            # Skip the header line and extract coordinates\n",
    "            coordinates = []\n",
    "            for i in range(start_line + 2, start_line + 2 + n_atoms):\n",
    "                line = lines[i].strip().split()\n",
    "                # Extract the x, y, z coordinates\n",
    "                x, y, z = float(line[1]), float(line[2]), float(line[3])\n",
    "                coordinates.append([x, y, z])\n",
    "            \n",
    "            structures.append(np.array(coordinates))\n",
    "    \n",
    "    return structures"
   ]
  },
  {
   "cell_type": "code",
   "execution_count": 2,
   "id": "c9653b51",
   "metadata": {},
   "outputs": [
    {
     "name": "stdout",
     "output_type": "stream",
     "text": [
      "Extracted 5 structures\n",
      "Structure 1: shape (8, 3)\n",
      "Structure 2: shape (8, 3)\n",
      "Structure 3: shape (8, 3)\n",
      "Structure 4: shape (8, 3)\n",
      "Structure 5: shape (8, 3)\n",
      "[[ 0.          0.          0.        ]\n",
      " [ 1.39454902  0.          0.57793632]\n",
      " [-1.23980586  0.63847348  0.57793632]\n",
      " [-0.29503787 -1.36298188  0.57793632]\n",
      " [-0.91652028  1.05107447 -0.57793632]\n",
      " [ 0.33360178 -1.35405938 -0.57793632]\n",
      " [ 1.22118593  0.6734032  -0.57793632]\n",
      " [ 0.          0.          1.76852686]]\n"
     ]
    }
   ],
   "source": [
    "# Example usage\n",
    "filename = \"../data/boron_8000_pbeccpvdz.xyz\"\n",
    "\n",
    "# Extract the first 5 structures\n",
    "structures = extract_multiple_structures(filename, n_structures=5)\n",
    "\n",
    "# Print information about the extracted structures\n",
    "print(f\"Extracted {len(structures)} structures\")\n",
    "for i, coords in enumerate(structures):\n",
    "    print(f\"Structure {i+1}: shape {coords.shape}\")\n",
    "    \n",
    "# You can access individual structures like this:\n",
    "first_structure = structures[0]\n",
    "print(first_structure)  # Prints the 8x3 array of coordinates for the first structure"
   ]
  },
  {
   "cell_type": "code",
   "execution_count": null,
   "id": "0ba04acb",
   "metadata": {},
   "outputs": [
    {
     "name": "stderr",
     "output_type": "stream",
     "text": [
      "  0%|          | 0/20 [00:00<?, ?it/s]"
     ]
    },
    {
     "name": "stdout",
     "output_type": "stream",
     "text": [
      "step 0, loss: 0.2171665902423155\n",
      "step 100, loss: 0.00762747050447586\n",
      "step 200, loss: 0.00022933883304288017\n",
      "step 300, loss: 4.806759365545818e-05\n",
      "step 400, loss: 0.0001870952434313177\n",
      "step 500, loss: 0.0002192004268960184\n",
      "Stopping early at step 505: no improvement for 100 iterations\n",
      "Final best loss: 1.1378633520977924e-05\n",
      "step 0, loss: 0.0003568545363812495\n",
      "step 100, loss: 2.444962235450216e-06\n",
      "Stopping early at step 171: no improvement for 100 iterations\n",
      "Final best loss: 7.287387205931345e-08\n",
      "Early stopping at iteration 192 due to no improvement for 100 iterations\n"
     ]
    },
    {
     "name": "stderr",
     "output_type": "stream",
     "text": [
      "  5%|▌         | 1/20 [00:50<15:52, 50.11s/it]"
     ]
    },
    {
     "name": "stdout",
     "output_type": "stream",
     "text": [
      "step 0, loss: 0.21799429809417442\n",
      "step 100, loss: 0.007060204642570919\n",
      "step 200, loss: 0.0008972752173861331\n",
      "step 300, loss: 0.0004083242133645475\n",
      "step 400, loss: 0.0006081186292695111\n",
      "Stopping early at step 478: no improvement for 100 iterations\n",
      "Final best loss: 4.893811632390341e-05\n",
      "step 0, loss: 0.00023215882929991508\n",
      "step 100, loss: 8.002290999844348e-06\n",
      "step 200, loss: 5.3676903236588815e-06\n",
      "step 300, loss: 6.179496654849328e-06\n",
      "step 400, loss: 5.011756684471862e-06\n",
      "step 500, loss: 4.2754319730079905e-06\n",
      "step 600, loss: 4.916906887470895e-06\n",
      "Stopping early at step 692: no improvement for 100 iterations\n",
      "Final best loss: 1.4452422853499063e-06\n"
     ]
    },
    {
     "name": "stderr",
     "output_type": "stream",
     "text": [
      " 10%|█         | 2/20 [01:04<08:43, 29.11s/it]"
     ]
    },
    {
     "name": "stdout",
     "output_type": "stream",
     "text": [
      "step 0, loss: 0.21966851466680548\n",
      "step 100, loss: 0.0066791985007560815\n",
      "step 200, loss: 0.0012231514801406558\n",
      "step 300, loss: 0.00021854983727470233\n",
      "step 400, loss: 9.836038570689313e-05\n",
      "step 500, loss: 9.32654341809001e-05\n",
      "Stopping early at step 541: no improvement for 100 iterations\n",
      "Final best loss: 4.746262443943679e-05\n",
      "step 0, loss: 0.00019140845969362397\n",
      "step 100, loss: 6.994846514690472e-06\n",
      "step 200, loss: 3.7708973240716385e-06\n",
      "step 300, loss: 4.416788688307937e-06\n",
      "step 400, loss: 2.8486378614177797e-06\n",
      "step 500, loss: 2.7035240691371033e-06\n",
      "step 600, loss: 1.4215418333177124e-06\n",
      "Stopping early at step 681: no improvement for 100 iterations\n",
      "Final best loss: 7.825362354356891e-07\n"
     ]
    },
    {
     "name": "stderr",
     "output_type": "stream",
     "text": [
      " 15%|█▌        | 3/20 [01:18<06:20, 22.37s/it]"
     ]
    },
    {
     "name": "stdout",
     "output_type": "stream",
     "text": [
      "step 0, loss: 0.22168741185967678\n",
      "step 100, loss: 0.008693467628203779\n",
      "step 200, loss: 0.0017327704165120328\n",
      "step 300, loss: 0.00031880183311828813\n",
      "Stopping early at step 377: no improvement for 100 iterations\n",
      "Final best loss: 3.681776778609871e-05\n",
      "step 0, loss: 3.356946770181909e-05\n",
      "step 100, loss: 2.938509797983407e-06\n",
      "Stopping early at step 124: no improvement for 100 iterations\n",
      "Final best loss: 5.878457970930052e-07\n"
     ]
    },
    {
     "name": "stderr",
     "output_type": "stream",
     "text": [
      " 20%|██        | 4/20 [01:28<04:37, 17.36s/it]"
     ]
    },
    {
     "name": "stdout",
     "output_type": "stream",
     "text": [
      "step 0, loss: 0.22168741185967678\n",
      "step 100, loss: 0.008693467628203779\n",
      "step 200, loss: 0.0017327704165120328\n",
      "step 300, loss: 0.00031880183311828813\n",
      "Stopping early at step 377: no improvement for 100 iterations\n",
      "Final best loss: 3.681776778609871e-05\n",
      "step 0, loss: 3.356946770181909e-05\n",
      "step 100, loss: 2.938509797983407e-06\n",
      "Stopping early at step 124: no improvement for 100 iterations\n",
      "Final best loss: 5.878457970930052e-07\n"
     ]
    },
    {
     "name": "stderr",
     "output_type": "stream",
     "text": [
      " 25%|██▌       | 5/20 [01:37<03:33, 14.21s/it]"
     ]
    },
    {
     "name": "stdout",
     "output_type": "stream",
     "text": [
      "step 0, loss: 0.22157430585172963\n",
      "step 100, loss: 0.008450067040587837\n",
      "step 200, loss: 0.0018015844734652596\n",
      "step 300, loss: 0.0006034878796870063\n",
      "Stopping early at step 391: no improvement for 100 iterations\n",
      "Final best loss: 6.289523295223376e-05\n",
      "step 0, loss: 0.00040548127450436283\n",
      "step 100, loss: 6.101218400254469e-06\n",
      "step 200, loss: 4.434523002226019e-07\n",
      "Stopping early at step 246: no improvement for 100 iterations\n",
      "Final best loss: 2.5306513368658517e-08\n"
     ]
    },
    {
     "name": "stderr",
     "output_type": "stream",
     "text": [
      " 30%|███       | 6/20 [01:46<02:55, 12.55s/it]"
     ]
    },
    {
     "name": "stdout",
     "output_type": "stream",
     "text": [
      "step 0, loss: 0.2204480222694885\n",
      "step 100, loss: 0.007297231416056298\n",
      "step 200, loss: 0.0025890575575710528\n",
      "step 300, loss: 0.00035082877382464084\n",
      "step 400, loss: 0.00014115216962975357\n",
      "step 500, loss: 0.00020984884105203048\n",
      "Stopping early at step 523: no improvement for 100 iterations\n",
      "Final best loss: 7.922394496510636e-05\n",
      "step 0, loss: 1.6397699513899437e-05\n",
      "step 100, loss: 1.3762735356599118e-06\n",
      "Stopping early at step 180: no improvement for 100 iterations\n",
      "Final best loss: 5.184602878506018e-09\n"
     ]
    },
    {
     "name": "stderr",
     "output_type": "stream",
     "text": [
      " 35%|███▌      | 7/20 [01:59<02:44, 12.66s/it]"
     ]
    },
    {
     "name": "stdout",
     "output_type": "stream",
     "text": [
      "Early stopping at iteration 232 due to no improvement for 100 iterations\n",
      "step 0, loss: 0.21846415891698628\n",
      "step 100, loss: 0.008287928183597469\n",
      "step 200, loss: 0.0004840944983369866\n",
      "step 300, loss: 0.00012589052870779058\n",
      "step 400, loss: 0.0003707930273932721\n",
      "step 500, loss: 0.00022393129097159788\n",
      "step 600, loss: 0.0001036209273018983\n",
      "Stopping early at step 653: no improvement for 100 iterations\n",
      "Final best loss: 1.5974521237741526e-05\n",
      "step 0, loss: 0.00014265687154533933\n",
      "step 100, loss: 3.2607353707258464e-06\n",
      "step 200, loss: 4.93450847198752e-06\n",
      "step 300, loss: 2.6815648327698502e-06\n",
      "step 400, loss: 3.4871361610958306e-06\n",
      "step 500, loss: 3.4174505049126635e-06\n",
      "step 600, loss: 6.012794121719035e-06\n",
      "Stopping early at step 611: no improvement for 100 iterations\n",
      "Final best loss: 1.296279953739194e-06\n"
     ]
    },
    {
     "name": "stderr",
     "output_type": "stream",
     "text": [
      " 40%|████      | 8/20 [02:09<02:23, 11.96s/it]"
     ]
    },
    {
     "name": "stdout",
     "output_type": "stream",
     "text": [
      "step 0, loss: 0.2205838198657109\n",
      "step 100, loss: 0.007659207203624931\n",
      "step 200, loss: 0.002566378558755147\n",
      "step 300, loss: 0.0003251628344581848\n",
      "step 400, loss: 0.0002948906665893633\n",
      "Stopping early at step 441: no improvement for 100 iterations\n",
      "Final best loss: 0.00011709048385820519\n",
      "step 0, loss: 0.0003654913179194878\n",
      "step 100, loss: 1.7551167927213998e-06\n",
      "Stopping early at step 152: no improvement for 100 iterations\n",
      "Final best loss: 1.3766285708559516e-07\n"
     ]
    },
    {
     "name": "stderr",
     "output_type": "stream",
     "text": [
      " 45%|████▌     | 9/20 [02:19<02:03, 11.20s/it]"
     ]
    },
    {
     "name": "stdout",
     "output_type": "stream",
     "text": [
      "Early stopping at iteration 205 due to no improvement for 100 iterations\n",
      "step 0, loss: 0.21818218520028726\n",
      "step 100, loss: 0.0074893078209127845\n",
      "step 200, loss: 0.00010146957835660145\n",
      "step 300, loss: 0.000624388951948633\n",
      "step 400, loss: 0.00048332015341850677\n",
      "Stopping early at step 423: no improvement for 100 iterations\n",
      "Final best loss: 5.3821677259652594e-05\n",
      "step 0, loss: 0.00020341984333511535\n",
      "step 100, loss: 3.315009231612009e-05\n",
      "step 200, loss: 4.241747886387429e-05\n",
      "step 300, loss: 3.526125382968856e-05\n",
      "step 400, loss: 2.9748628513523657e-05\n",
      "step 500, loss: 3.6213659256961935e-05\n",
      "step 600, loss: 3.794367819840216e-05\n",
      "step 700, loss: 3.148756404275752e-05\n",
      "step 800, loss: 2.779375788663662e-05\n",
      "step 900, loss: 2.7637862336660005e-05\n",
      "step 1000, loss: 2.8762589541029808e-05\n",
      "step 1100, loss: 2.749196570482773e-05\n",
      "step 1200, loss: 2.6685574242281394e-05\n",
      "step 1300, loss: 3.556856146542572e-05\n",
      "step 1400, loss: 2.513813167008135e-05\n",
      "step 1500, loss: 2.0840845407004317e-05\n",
      "step 1600, loss: 2.1844558736343325e-05\n",
      "step 1700, loss: 2.22289643628458e-05\n",
      "step 1800, loss: 3.6142253197020114e-05\n",
      "step 1900, loss: 2.023291294504434e-05\n",
      "step 2000, loss: 1.8607534809493522e-05\n",
      "step 2100, loss: 1.9675424507191555e-05\n",
      "Stopping early at step 2172: no improvement for 100 iterations\n",
      "Final best loss: 1.6335856022404503e-05\n"
     ]
    },
    {
     "name": "stderr",
     "output_type": "stream",
     "text": [
      " 50%|█████     | 10/20 [02:30<01:53, 11.32s/it]"
     ]
    },
    {
     "name": "stdout",
     "output_type": "stream",
     "text": [
      "step 0, loss: 0.21818218520212637\n",
      "step 100, loss: 0.007489307819073665\n",
      "step 200, loss: 0.0001014695801957221\n",
      "step 300, loss: 0.0006243889516378434\n",
      "step 400, loss: 0.00048332015525762384\n",
      "Stopping early at step 423: no improvement for 100 iterations\n",
      "Final best loss: 5.382167542053412e-05\n",
      "step 0, loss: 0.00020341984517423543\n",
      "step 100, loss: 3.315009047699906e-05\n",
      "step 200, loss: 4.2417480702992627e-05\n",
      "step 300, loss: 3.5261255668810985e-05\n",
      "step 400, loss: 2.974862882431856e-05\n",
      "step 500, loss: 3.6213657417841845e-05\n",
      "step 600, loss: 3.7943680037520496e-05\n",
      "step 700, loss: 3.1487565881875855e-05\n",
      "step 800, loss: 2.779375972575811e-05\n",
      "step 900, loss: 2.7637860497538977e-05\n",
      "step 1000, loss: 2.876259138014917e-05\n",
      "step 1100, loss: 2.7491966015622558e-05\n",
      "step 1200, loss: 2.6685574553073144e-05\n",
      "step 1300, loss: 3.556855962630691e-05\n",
      "step 1400, loss: 2.5138129830961265e-05\n",
      "step 1500, loss: 2.0840847246126833e-05\n",
      "step 1600, loss: 2.1844560575461657e-05\n",
      "step 1700, loss: 2.2228966201965154e-05\n",
      "step 1800, loss: 3.614225135790129e-05\n",
      "step 1900, loss: 2.0232911105924256e-05\n",
      "step 2000, loss: 1.860753664861596e-05\n",
      "step 2100, loss: 1.9675426346313994e-05\n",
      "Stopping early at step 2172: no improvement for 100 iterations\n",
      "Final best loss: 1.6335857861527016e-05\n"
     ]
    },
    {
     "name": "stderr",
     "output_type": "stream",
     "text": [
      " 55%|█████▌    | 11/20 [02:42<01:41, 11.27s/it]"
     ]
    },
    {
     "name": "stdout",
     "output_type": "stream",
     "text": [
      "step 0, loss: 0.21755035030832734\n",
      "step 100, loss: 0.007427701283479707\n",
      "step 200, loss: 0.00045094522918769363\n",
      "step 300, loss: 0.0007268088303527189\n",
      "Stopping early at step 354: no improvement for 100 iterations\n",
      "Final best loss: 5.4606786713261036e-05\n",
      "step 0, loss: 0.0005172435204564544\n",
      "step 100, loss: 2.3543673116086017e-05\n",
      "step 200, loss: 2.5540318095218513e-05\n",
      "step 300, loss: 2.283140973795937e-05\n",
      "step 400, loss: 2.2659069249609913e-05\n",
      "step 500, loss: 2.428794221822318e-05\n",
      "Stopping early at step 525: no improvement for 100 iterations\n",
      "Final best loss: 2.2516744481662783e-05\n"
     ]
    },
    {
     "name": "stderr",
     "output_type": "stream",
     "text": [
      " 60%|██████    | 12/20 [02:51<01:25, 10.67s/it]"
     ]
    },
    {
     "name": "stdout",
     "output_type": "stream",
     "text": [
      "step 0, loss: 0.22007464427441148\n",
      "step 100, loss: 0.00878566993400857\n",
      "step 200, loss: 0.000746665328932294\n",
      "step 300, loss: 0.00022851461832828937\n",
      "step 400, loss: 0.0004978384319511221\n",
      "step 500, loss: 0.00022389344477106857\n",
      "Stopping early at step 561: no improvement for 100 iterations\n",
      "Final best loss: 5.310813816334172e-05\n",
      "step 0, loss: 0.00035953732356516446\n",
      "step 100, loss: 6.318145976649916e-07\n",
      "Stopping early at step 140: no improvement for 100 iterations\n",
      "Final best loss: 4.939756117415446e-07\n"
     ]
    },
    {
     "name": "stderr",
     "output_type": "stream",
     "text": [
      " 65%|██████▌   | 13/20 [03:01<01:12, 10.39s/it]"
     ]
    },
    {
     "name": "stdout",
     "output_type": "stream",
     "text": [
      "step 0, loss: 0.21789513288710116\n",
      "step 100, loss: 0.008185372212533081\n",
      "step 200, loss: 0.0004357071665694266\n",
      "step 300, loss: 0.00010565272968020559\n",
      "Stopping early at step 383: no improvement for 100 iterations\n",
      "Final best loss: 4.756233287584436e-05\n",
      "step 0, loss: 0.0002253544029709146\n",
      "step 100, loss: 3.346830212079543e-05\n",
      "step 200, loss: 4.011969602837526e-05\n",
      "Stopping early at step 268: no improvement for 100 iterations\n",
      "Final best loss: 3.254936994942319e-05\n"
     ]
    },
    {
     "name": "stderr",
     "output_type": "stream",
     "text": [
      " 70%|███████   | 14/20 [03:10<01:00, 10.06s/it]"
     ]
    },
    {
     "name": "stdout",
     "output_type": "stream",
     "text": [
      "step 0, loss: 0.22319972119293505\n",
      "step 100, loss: 0.011346769741127558\n",
      "step 200, loss: 0.0009361688945340854\n",
      "step 300, loss: 0.00010301146300485658\n",
      "step 400, loss: 0.00041211480832643415\n",
      "step 500, loss: 0.00017487584328397863\n",
      "Stopping early at step 539: no improvement for 100 iterations\n",
      "Final best loss: 1.6489341243024585e-05\n",
      "step 0, loss: 0.0004858687194310529\n",
      "step 100, loss: 9.425783314961637e-07\n",
      "step 200, loss: 3.5101466031501333e-07\n",
      "Stopping early at step 283: no improvement for 100 iterations\n",
      "Final best loss: 1.458625216396869e-07\n"
     ]
    },
    {
     "name": "stderr",
     "output_type": "stream",
     "text": [
      " 75%|███████▌  | 15/20 [03:19<00:48,  9.72s/it]"
     ]
    },
    {
     "name": "stdout",
     "output_type": "stream",
     "text": [
      "Early stopping at iteration 211 due to no improvement for 100 iterations\n",
      "step 0, loss: 0.221692123328246\n",
      "step 100, loss: 0.008701549244006707\n",
      "step 200, loss: 0.0016733145638251823\n",
      "step 300, loss: 0.00011379756579190932\n",
      "step 400, loss: 0.0002269621129022284\n",
      "step 500, loss: 0.0002963359052120507\n",
      "Stopping early at step 521: no improvement for 100 iterations\n",
      "Final best loss: 1.8555186464257674e-05\n",
      "step 0, loss: 0.00020610971141038657\n",
      "step 100, loss: 3.760166009879709e-07\n",
      "step 200, loss: 3.1414052558316066e-06\n",
      "Stopping early at step 272: no improvement for 100 iterations\n",
      "Final best loss: 3.623643292055396e-08\n"
     ]
    }
   ],
   "source": [
    "from tqdm import tqdm\n",
    "\n",
    "lmax = 5\n",
    "predicted_geometries = []\n",
    "avg_errors = []\n",
    "max_errors = []\n",
    "\n",
    "for true_geometry in tqdm(local_envs):\n",
    "    true_geometry = jnp.array(true_geometry)\n",
    "    true_signal = sum_of_diracs(true_geometry, lmax)\n",
    "    true_bispectrum = bispectrum(true_signal)\n",
    "    predicted_geometry = reconstruct_geometry(true_bispectrum, bispectrum, lmax, true_geometry)\n",
    "    predicted_geometries.append(predicted_geometry)\n",
    "    total_point_distance_error, max_point_distance_error = point_distance(predicted_geometry, true_geometry)\n",
    "    avg_point_distance_error = total_point_distance_error / len(predicted_geometry)\n",
    "    avg_errors.append(avg_point_distance_error)\n",
    "    max_errors.append(max_point_distance_error)"
   ]
  },
  {
   "cell_type": "code",
   "execution_count": null,
   "id": "747db711",
   "metadata": {},
   "outputs": [],
   "source": []
  }
 ],
 "metadata": {
  "kernelspec": {
   "display_name": ".venv",
   "language": "python",
   "name": "python3"
  },
  "language_info": {
   "codemirror_mode": {
    "name": "ipython",
    "version": 3
   },
   "file_extension": ".py",
   "mimetype": "text/x-python",
   "name": "python",
   "nbconvert_exporter": "python",
   "pygments_lexer": "ipython3",
   "version": "3.10.12"
  }
 },
 "nbformat": 4,
 "nbformat_minor": 5
}
