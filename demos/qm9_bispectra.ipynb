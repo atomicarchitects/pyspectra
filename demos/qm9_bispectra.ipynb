{
 "cells": [
  {
   "cell_type": "code",
   "execution_count": 1,
   "metadata": {},
   "outputs": [],
   "source": [
    "import os\n",
    "import sys\n",
    "\n",
    "import e3nn_jax as e3nn\n",
    "import jax\n",
    "import jax.numpy as jnp\n",
    "import matplotlib.pyplot as plt\n",
    "import numpy as np\n",
    "import pickle\n",
    "import plotly.graph_objects as go\n",
    "from itertools import permutations\n",
    "import optax\n",
    "import chex\n",
    "from tqdm import tqdm\n",
    "\n",
    "\n",
    "# Add src directory to path\n",
    "project_root = os.path.abspath(os.path.join(os.getcwd(), '..'))\n",
    "src_dir = os.path.join(project_root, 'src')\n",
    "sys.path.append(src_dir)\n",
    "\n",
    "from utils.plotters import visualize_geometry, colorplot, visualize_signal, compare_geometries\n",
    "from utils.geometries import trigonal_plane, tetrahedron, octahedron, icosahedron, dodecahedron\n",
    "from utils.alignment import sample_uniform_quaternion, align_signals, find_best_random_quaternion, rotate_points_quaternion, stack_points, point_distance, spherical_harmonic_distance, stack_points, choose_best_quaternion, evenly_distributed_quaternions, quaternion_rotation_distance, spherical_grid_distance\n",
    "import spectra\n",
    "from spectra import sum_of_diracs, powerspectrum, bispectrum, trispectrum\n",
    "\n",
    "# Enable 64-bit precision\n",
    "jax.config.update(\"jax_enable_x64\", True)"
   ]
  },
  {
   "cell_type": "code",
   "execution_count": 2,
   "metadata": {},
   "outputs": [
    {
     "name": "stdout",
     "output_type": "stream",
     "text": [
      "Number of local environments: 10000\n"
     ]
    }
   ],
   "source": [
    "with open('../data/qm9_local_envs_10000.pkl', 'rb') as f:\n",
    "    local_envs = pickle.load(f)\n",
    "\n",
    "print(f\"Number of local environments: {len(local_envs)}\")"
   ]
  },
  {
   "cell_type": "code",
   "execution_count": 4,
   "metadata": {},
   "outputs": [
    {
     "name": "stderr",
     "output_type": "stream",
     "text": [
      "100%|██████████| 10000/10000 [00:24<00:00, 408.70it/s]\n"
     ]
    }
   ],
   "source": [
    "lmax = 4\n",
    "bispectra = []\n",
    "for local_env in tqdm(local_envs):\n",
    "    true_geometry = jnp.array(local_env)\n",
    "    true_signal = sum_of_diracs(true_geometry, lmax)\n",
    "    true_bispectrum = bispectrum(true_signal)\n",
    "    bispectra.append(true_bispectrum)"
   ]
  }
 ],
 "metadata": {
  "kernelspec": {
   "display_name": ".venv",
   "language": "python",
   "name": "python3"
  },
  "language_info": {
   "codemirror_mode": {
    "name": "ipython",
    "version": 3
   },
   "file_extension": ".py",
   "mimetype": "text/x-python",
   "name": "python",
   "nbconvert_exporter": "python",
   "pygments_lexer": "ipython3",
   "version": "3.10.16"
  }
 },
 "nbformat": 4,
 "nbformat_minor": 2
}
