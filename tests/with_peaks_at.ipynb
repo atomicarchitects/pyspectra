{
 "cells": [
  {
   "cell_type": "code",
   "execution_count": 12,
   "metadata": {},
   "outputs": [],
   "source": [
    "import e3nn\n",
    "from e3nn import o3, io\n",
    "import numpy as np\n",
    "import torch"
   ]
  },
  {
   "cell_type": "code",
   "execution_count": 13,
   "metadata": {},
   "outputs": [],
   "source": [
    "true_geometry = torch.tensor([\n",
    "    [1, 0, 0],\n",
    "    [-0.5, np.sqrt(3)/2, 0],\n",
    "    [-0.5, -np.sqrt(3)/2, 0]\n",
    "])\n"
   ]
  },
  {
   "cell_type": "code",
   "execution_count": 14,
   "metadata": {},
   "outputs": [
    {
     "name": "stderr",
     "output_type": "stream",
     "text": [
      "/Users/tphung/miniconda3/envs/py38/lib/python3.8/site-packages/torch/jit/_check.py:172: UserWarning: The TorchScript type system doesn't support instance-level annotations on empty non-base types in `__init__`. Instead, either 1) use a type annotation in the class body, or 2) wrap the type in `torch.jit.Attribute`.\n",
      "  warnings.warn(\"The TorchScript type system doesn't support \"\n"
     ]
    }
   ],
   "source": [
    "lmax=4\n",
    "sph = io.SphericalTensor(lmax, p_val=1, p_arg=-1)\n",
    "\n",
    "bispectrum = o3.ReducedTensorProducts(\n",
    "    'ijk=jik=ikj', i=sph, \n",
    "    filter_ir_out=['0e', '0o'], \n",
    "    filter_ir_mid=o3.Irrep.iterator(lmax)\n",
    ")\n",
    "\n",
    "bispectrum_lambda = lambda x: bispectrum(x, x, x)"
   ]
  },
  {
   "cell_type": "code",
   "execution_count": 15,
   "metadata": {},
   "outputs": [
    {
     "data": {
      "text/plain": [
       "tensor([ 4.4926e-01,  3.3307e-16,  8.3267e-17,  0.0000e+00,  0.0000e+00,\n",
       "        -1.1102e-16,  2.5114e-01,  0.0000e+00, -4.3499e-01, -2.3492e-01,\n",
       "         0.0000e+00, -9.0985e-01,  2.7756e-17,  0.0000e+00, -5.5511e-17,\n",
       "         0.0000e+00,  0.0000e+00,  4.1633e-17,  0.0000e+00, -1.6653e-16,\n",
       "         1.8953e-01,  0.0000e+00, -2.8253e-01,  0.0000e+00,  3.7376e-01],\n",
       "       dtype=torch.float64)"
      ]
     },
     "execution_count": 15,
     "metadata": {},
     "output_type": "execute_result"
    }
   ],
   "source": [
    "sph.with_peaks_at(true_geometry)"
   ]
  }
 ],
 "metadata": {
  "kernelspec": {
   "display_name": "Python 3 (ipykernel)",
   "language": "python",
   "name": "python3"
  },
  "orig_nbformat": 4
 },
 "nbformat": 4,
 "nbformat_minor": 2
}
