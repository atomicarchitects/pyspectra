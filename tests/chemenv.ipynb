{
 "cells": [
  {
   "cell_type": "code",
   "execution_count": 91,
   "metadata": {},
   "outputs": [],
   "source": [
    "from pymatgen.core.structure import Structure\n",
    "\n",
    "from pymatgen.analysis.chemenv.coordination_environments.chemenv_strategies import (\n",
    "    SimplestChemenvStrategy,\n",
    ")\n",
    "from pymatgen.analysis.chemenv.coordination_environments.coordination_geometry_finder import (\n",
    "    LocalGeometryFinder,\n",
    ")\n",
    "from pymatgen.analysis.chemenv.coordination_environments.structure_environments import (\n",
    "    LightStructureEnvironments,\n",
    ")\n",
    "\n",
    "cif_path = \"../cif_files/mp/AgS/mp-3922.cif\"\n",
    "structure = Structure.from_file(cif_path)\n"
   ]
  },
  {
   "cell_type": "code",
   "execution_count": 23,
   "metadata": {},
   "outputs": [
    {
     "data": {
      "text/plain": [
       "Structure Summary\n",
       "Lattice\n",
       "    abc : 4.62089793 6.8017951000000005 13.24677991\n",
       " angles : 97.94880065000001 90.0 109.85751528999998\n",
       " volume : 387.33956692021246\n",
       "      A : 4.62089793 0.0 2.829483929580565e-16\n",
       "      B : -2.3104489607006093 6.327835291636185 -0.9406076250515342\n",
       "      C : 0.0 0.0 13.24677991\n",
       "    pbc : True True True\n",
       "PeriodicSite: Ag0 (Ag) (2.31, 0.0, 1.415e-16) [0.5, 0.0, 0.0]\n",
       "PeriodicSite: Ag1 (Ag) (0.0273, 0.0, 9.935) [0.005908, 0.0, 0.75]\n",
       "PeriodicSite: Ag2 (Ag) (2.31, 0.0, 6.623) [0.5, 0.0, 0.5]\n",
       "PeriodicSite: Ag3 (Ag) (4.594, 0.0, 3.312) [0.9941, 0.0, 0.25]\n",
       "PeriodicSite: Sb4 (Sb) (0.119, 3.221, 7.829) [0.2803, 0.509, 0.6272]\n",
       "PeriodicSite: Sb5 (Sb) (2.429, 3.107, 11.1) [0.7712, 0.491, 0.8728]\n",
       "PeriodicSite: Sb6 (Sb) (2.191, 3.107, 4.477) [0.7197, 0.491, 0.3728]\n",
       "PeriodicSite: Sb7 (Sb) (-0.119, 3.221, 1.206) [0.2288, 0.509, 0.1272]\n",
       "PeriodicSite: S8 (S) (0.8872, 1.375, 11.91) [0.3006, 0.2172, 0.9142]\n",
       "PeriodicSite: S9 (S) (-1.423, 4.953, 7.023) [0.08339, 0.7828, 0.5858]\n",
       "PeriodicSite: S10 (S) (1.423, 4.953, 0.3998) [0.6994, 0.7828, 0.08576]\n",
       "PeriodicSite: S11 (S) (3.734, 1.375, 5.283) [0.9166, 0.2172, 0.4142]\n",
       "PeriodicSite: S12 (S) (1.608, 1.825, 2.37) [0.4922, 0.2884, 0.1994]\n",
       "PeriodicSite: S13 (S) (3.013, 1.825, 8.993) [0.7962, 0.2884, 0.6994]\n",
       "PeriodicSite: S14 (S) (0.7023, 4.503, 9.937) [0.5078, 0.7116, 0.8006]\n",
       "PeriodicSite: S15 (S) (-0.7023, 4.503, 3.313) [0.2038, 0.7116, 0.3006]"
      ]
     },
     "execution_count": 23,
     "metadata": {},
     "output_type": "execute_result"
    }
   ],
   "source": [
    "structure"
   ]
  },
  {
   "cell_type": "code",
   "execution_count": 24,
   "metadata": {},
   "outputs": [
    {
     "data": {
      "text/plain": [
       "PeriodicSite: Ag0 (Ag) (2.31, 0.0, 1.415e-16) [0.5, 0.0, 0.0]"
      ]
     },
     "execution_count": 24,
     "metadata": {},
     "output_type": "execute_result"
    }
   ],
   "source": [
    "structure[0]"
   ]
  },
  {
   "cell_type": "code",
   "execution_count": 90,
   "metadata": {},
   "outputs": [
    {
     "data": {
      "text/plain": [
       "[{'ce_symbol': 'O:6',\n",
       "  'ce_fraction': 1.0,\n",
       "  'csm': 2.77533143117864,\n",
       "  'permutation': [5, 3, 4, 2, 0, 1]}]"
      ]
     },
     "execution_count": 90,
     "metadata": {},
     "output_type": "execute_result"
    }
   ],
   "source": [
    "from pymatgen.analysis.chemenv.coordination_environments.coordination_geometry_finder import LocalGeometryFinder\n",
    "\n",
    "lgf = LocalGeometryFinder()\n",
    "lgf.setup_structure(structure)\n",
    "lgf.compute_coordination_environments(structure, indices=[3])[3]"
   ]
  },
  {
   "cell_type": "code",
   "execution_count": 67,
   "metadata": {},
   "outputs": [
    {
     "data": {
      "text/plain": [
       "<pymatgen.analysis.chemenv.coordination_environments.structure_environments.StructureEnvironments at 0x28c54e490>"
      ]
     },
     "execution_count": 67,
     "metadata": {},
     "output_type": "execute_result"
    }
   ],
   "source": [
    "structure_environments =  lgf.compute_structure_environments(only_indices=[0])\n",
    "structure_environments"
   ]
  },
  {
   "cell_type": "code",
   "execution_count": 69,
   "metadata": {},
   "outputs": [
    {
     "data": {
      "text/plain": [
       "['AC',\n",
       " 'NeighborsSet',\n",
       " 'REDIRECT',\n",
       " '__class__',\n",
       " '__delattr__',\n",
       " '__dict__',\n",
       " '__dir__',\n",
       " '__doc__',\n",
       " '__eq__',\n",
       " '__format__',\n",
       " '__ge__',\n",
       " '__get_pydantic_core_schema__',\n",
       " '__get_pydantic_json_schema__',\n",
       " '__get_validators__',\n",
       " '__getattribute__',\n",
       " '__gt__',\n",
       " '__hash__',\n",
       " '__init__',\n",
       " '__init_subclass__',\n",
       " '__le__',\n",
       " '__lt__',\n",
       " '__modify_schema__',\n",
       " '__module__',\n",
       " '__ne__',\n",
       " '__new__',\n",
       " '__reduce__',\n",
       " '__reduce_ex__',\n",
       " '__repr__',\n",
       " '__setattr__',\n",
       " '__sizeof__',\n",
       " '__str__',\n",
       " '__subclasshook__',\n",
       " '__weakref__',\n",
       " '_generic_json_schema',\n",
       " '_validate_monty',\n",
       " 'add_neighbors_set',\n",
       " 'as_dict',\n",
       " 'ce_list',\n",
       " 'differences_wrt',\n",
       " 'equivalent_sites',\n",
       " 'from_dict',\n",
       " 'get_coordination_environments',\n",
       " 'get_csm',\n",
       " 'get_csm_and_maps',\n",
       " 'get_csms',\n",
       " 'get_environments_figure',\n",
       " 'info',\n",
       " 'init_neighbors_sets',\n",
       " 'neighbors_sets',\n",
       " 'plot_csm_and_maps',\n",
       " 'plot_environments',\n",
       " 'save_environments_figure',\n",
       " 'sites_map',\n",
       " 'structure',\n",
       " 'to_json',\n",
       " 'unsafe_hash',\n",
       " 'update_coordination_environments',\n",
       " 'update_site_info',\n",
       " 'valences',\n",
       " 'validate_monty_v1',\n",
       " 'validate_monty_v2',\n",
       " 'voronoi']"
      ]
     },
     "execution_count": 69,
     "metadata": {},
     "output_type": "execute_result"
    }
   ],
   "source": [
    "dir(structure_environments)"
   ]
  },
  {
   "cell_type": "code",
   "execution_count": 84,
   "metadata": {},
   "outputs": [
    {
     "data": {
      "text/plain": [
       "[{'site': PeriodicNeighbor: Sb5 (Sb) (0.119, -3.221, -1.206) [-0.2288, -0.509, -0.1272],\n",
       "  'index': 5},\n",
       " {'site': PeriodicNeighbor: Sb7 (Sb) (2.191, -3.107, 2.146) [0.2288, -0.491, 0.1272],\n",
       "  'index': 7},\n",
       " {'site': PeriodicNeighbor: S10 (S) (3.734, -1.375, 1.34) [0.6994, -0.2172, 0.08576],\n",
       "  'index': 10},\n",
       " {'site': PeriodicNeighbor: S10 (S) (-0.8872, -1.375, 1.34) [-0.3006, -0.2172, 0.08576],\n",
       "  'index': 10},\n",
       " {'site': PeriodicNeighbor: S8 (S) (0.8872, 1.375, -1.34) [0.3006, 0.2172, -0.08576],\n",
       "  'index': 8},\n",
       " {'site': PeriodicNeighbor: Sb7 (Sb) (4.502, 3.221, 1.206) [1.229, 0.509, 0.1272],\n",
       "  'index': 7},\n",
       " {'site': PeriodicNeighbor: Ag3 (Ag) (-0.0273, 0.0, 3.312) [-0.005908, 0.0, 0.25],\n",
       "  'index': 3},\n",
       " {'site': PeriodicNeighbor: S14 (S) (3.013, -1.825, -2.37) [0.5078, -0.2884, -0.1994],\n",
       "  'index': 14},\n",
       " {'site': PeriodicNeighbor: S12 (S) (1.608, 1.825, 2.37) [0.4922, 0.2884, 0.1994],\n",
       "  'index': 12},\n",
       " {'site': PeriodicNeighbor: Sb5 (Sb) (2.429, 3.107, -2.146) [0.7712, 0.491, -0.1272],\n",
       "  'index': 5},\n",
       " {'site': PeriodicNeighbor: S8 (S) (5.508, 1.375, -1.34) [1.301, 0.2172, -0.08576],\n",
       "  'index': 8},\n",
       " {'site': PeriodicNeighbor: Ag1 (Ag) (4.648, 0.0, -3.312) [1.006, 0.0, -0.25],\n",
       "  'index': 1}]"
      ]
     },
     "execution_count": 84,
     "metadata": {},
     "output_type": "execute_result"
    }
   ],
   "source": [
    "structure_environments.neighbors_sets[0][12][0].neighb_sites_and_indices\n"
   ]
  },
  {
   "cell_type": "code",
   "execution_count": 114,
   "metadata": {},
   "outputs": [
    {
     "ename": "NameError",
     "evalue": "name 'MultiWeightsChemenvStrategy' is not defined",
     "output_type": "error",
     "traceback": [
      "\u001b[0;31m---------------------------------------------------------------------------\u001b[0m",
      "\u001b[0;31mNameError\u001b[0m                                 Traceback (most recent call last)",
      "Cell \u001b[0;32mIn[114], line 4\u001b[0m\n\u001b[1;32m      2\u001b[0m lgf\u001b[39m.\u001b[39msetup_structure(structure)\n\u001b[1;32m      3\u001b[0m se \u001b[39m=\u001b[39m lgf\u001b[39m.\u001b[39mcompute_structure_environments(structure, only_indices\u001b[39m=\u001b[39m[\u001b[39m0\u001b[39m])\n\u001b[0;32m----> 4\u001b[0m strategy \u001b[39m=\u001b[39m MultiWeightsChemenvStrategy()\n\u001b[1;32m      5\u001b[0m lse \u001b[39m=\u001b[39m LightStructureEnvironments\u001b[39m.\u001b[39mfrom_structure_environments(\n\u001b[1;32m      6\u001b[0m     strategy\u001b[39m=\u001b[39mstrategy, structure_environments\u001b[39m=\u001b[39mse\n\u001b[1;32m      7\u001b[0m )\n\u001b[1;32m      8\u001b[0m isite \u001b[39m=\u001b[39m \u001b[39m0\u001b[39m\n",
      "\u001b[0;31mNameError\u001b[0m: name 'MultiWeightsChemenvStrategy' is not defined"
     ]
    }
   ],
   "source": [
    "lgf = LocalGeometryFinder()\n",
    "lgf.setup_structure(structure)\n",
    "se = lgf.compute_structure_environments(structure, only_indices=[0])\n",
    "strategy = MultiWeightsChemenvStrategy()\n",
    "lse = LightStructureEnvironments.from_structure_environments(\n",
    "    strategy=strategy, structure_environments=se\n",
    ")\n",
    "isite = 0\n",
    "print(lse.coordination_environments[isite])"
   ]
  },
  {
   "cell_type": "code",
   "execution_count": 113,
   "metadata": {},
   "outputs": [
    {
     "data": {
      "text/plain": [
       "[{'site': PeriodicNeighbor: S10 (S) (3.734, -1.375, 1.34) [0.6994, -0.2172, 0.08576],\n",
       "  'index': 10},\n",
       " {'site': PeriodicNeighbor: S8 (S) (0.8872, 1.375, -1.34) [0.3006, 0.2172, -0.08576],\n",
       "  'index': 8},\n",
       " {'site': PeriodicNeighbor: S14 (S) (3.013, -1.825, -2.37) [0.5078, -0.2884, -0.1994],\n",
       "  'index': 14},\n",
       " {'site': PeriodicNeighbor: S12 (S) (1.608, 1.825, 2.37) [0.4922, 0.2884, 0.1994],\n",
       "  'index': 12}]"
      ]
     },
     "execution_count": 113,
     "metadata": {},
     "output_type": "execute_result"
    }
   ],
   "source": [
    "lse.neighbors_sets[0][0].neighb_sites_and_indices"
   ]
  }
 ],
 "metadata": {
  "kernelspec": {
   "display_name": "Python 3 (ipykernel)",
   "language": "python",
   "name": "python3"
  },
  "orig_nbformat": 4
 },
 "nbformat": 4,
 "nbformat_minor": 2
}
