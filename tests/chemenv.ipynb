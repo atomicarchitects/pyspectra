{
 "cells": [
  {
   "cell_type": "code",
   "execution_count": 1,
   "metadata": {},
   "outputs": [
    {
     "name": "stderr",
     "output_type": "stream",
     "text": [
      "/Users/tphung/Dropbox (MIT)/repos/pyspectra/venv/lib/python3.11/site-packages/pymatgen/io/cif.py:1186: UserWarning: The default value of primitive was changed from True to False in https://github.com/materialsproject/pymatgen/pull/3419. CifParser now returns the cell in the CIF file as is. If you want the primitive cell, please set primitive=True explicitly.\n",
      "  warnings.warn(\n"
     ]
    }
   ],
   "source": [
    "from pymatgen.core.structure import Structure\n",
    "\n",
    "from pymatgen.analysis.chemenv.coordination_environments.chemenv_strategies import (\n",
    "    SimplestChemenvStrategy,\n",
    ")\n",
    "from pymatgen.analysis.chemenv.coordination_environments.coordination_geometry_finder import (\n",
    "    LocalGeometryFinder,\n",
    ")\n",
    "from pymatgen.analysis.chemenv.coordination_environments.structure_environments import (\n",
    "    LightStructureEnvironments,\n",
    ")\n",
    "\n",
    "cif_path = \"../cif_files/mp/AgS/mp-3922.cif\"\n",
    "structure = Structure.from_file(cif_path)\n"
   ]
  },
  {
   "cell_type": "code",
   "execution_count": 4,
   "metadata": {},
   "outputs": [
    {
     "data": {
      "text/plain": [
       "[{'ce_symbol': 'O:6',\n",
       "  'ce_fraction': 1.0,\n",
       "  'csm': 2.7753314311786372,\n",
       "  'permutation': [1, 0, 3, 5, 4, 2]}]"
      ]
     },
     "execution_count": 4,
     "metadata": {},
     "output_type": "execute_result"
    }
   ],
   "source": [
    "from pymatgen.analysis.chemenv.coordination_environments.coordination_geometry_finder import LocalGeometryFinder\n",
    "\n",
    "lgf = LocalGeometryFinder()\n",
    "lgf.setup_structure(structure)\n",
    "lgf.compute_coordination_environments(structure, indices=[3])[3]"
   ]
  },
  {
   "cell_type": "code",
   "execution_count": 5,
   "metadata": {},
   "outputs": [
    {
     "data": {
      "text/plain": [
       "<pymatgen.analysis.chemenv.coordination_environments.structure_environments.StructureEnvironments at 0x173fd3550>"
      ]
     },
     "execution_count": 5,
     "metadata": {},
     "output_type": "execute_result"
    }
   ],
   "source": [
    "structure_environments =  lgf.compute_structure_environments(only_indices=[0])\n",
    "structure_environments"
   ]
  },
  {
   "cell_type": "code",
   "execution_count": 7,
   "metadata": {},
   "outputs": [
    {
     "data": {
      "text/plain": [
       "[{'site': PeriodicNeighbor: Sb5 (Sb) (0.119, -3.221, -1.206) [-0.2288, -0.509, -0.1272],\n",
       "  'index': 5},\n",
       " {'site': PeriodicNeighbor: Sb7 (Sb) (2.191, -3.107, 2.146) [0.2288, -0.491, 0.1272],\n",
       "  'index': 7},\n",
       " {'site': PeriodicNeighbor: S10 (S) (3.734, -1.375, 1.34) [0.6994, -0.2172, 0.08576],\n",
       "  'index': 10},\n",
       " {'site': PeriodicNeighbor: S10 (S) (-0.8872, -1.375, 1.34) [-0.3006, -0.2172, 0.08576],\n",
       "  'index': 10},\n",
       " {'site': PeriodicNeighbor: S8 (S) (0.8872, 1.375, -1.34) [0.3006, 0.2172, -0.08576],\n",
       "  'index': 8},\n",
       " {'site': PeriodicNeighbor: Sb7 (Sb) (4.502, 3.221, 1.206) [1.229, 0.509, 0.1272],\n",
       "  'index': 7},\n",
       " {'site': PeriodicNeighbor: Ag3 (Ag) (-0.0273, 0.0, 3.312) [-0.005908, 0.0, 0.25],\n",
       "  'index': 3},\n",
       " {'site': PeriodicNeighbor: S14 (S) (3.013, -1.825, -2.37) [0.5078, -0.2884, -0.1994],\n",
       "  'index': 14},\n",
       " {'site': PeriodicNeighbor: S12 (S) (1.608, 1.825, 2.37) [0.4922, 0.2884, 0.1994],\n",
       "  'index': 12},\n",
       " {'site': PeriodicNeighbor: Sb5 (Sb) (2.429, 3.107, -2.146) [0.7712, 0.491, -0.1272],\n",
       "  'index': 5},\n",
       " {'site': PeriodicNeighbor: S8 (S) (5.508, 1.375, -1.34) [1.301, 0.2172, -0.08576],\n",
       "  'index': 8},\n",
       " {'site': PeriodicNeighbor: Ag1 (Ag) (4.648, 0.0, -3.312) [1.006, 0.0, -0.25],\n",
       "  'index': 1}]"
      ]
     },
     "execution_count": 7,
     "metadata": {},
     "output_type": "execute_result"
    }
   ],
   "source": [
    "structure_environments.neighbors_sets[0][12][0].neighb_sites_and_indices\n"
   ]
  },
  {
   "cell_type": "code",
   "execution_count": 19,
   "metadata": {},
   "outputs": [
    {
     "data": {
      "text/plain": [
       "<pymatgen.analysis.chemenv.coordination_environments.structure_environments.LightStructureEnvironments.NeighborsSet at 0x16ca5bfd0>"
      ]
     },
     "execution_count": 19,
     "metadata": {},
     "output_type": "execute_result"
    }
   ],
   "source": [
    "lgf = LocalGeometryFinder()\n",
    "lgf.setup_structure(structure)\n",
    "se = lgf.compute_structure_environments(structure, only_indices=[0, 2])\n",
    "strategy = SimplestChemenvStrategy()\n",
    "lse = LightStructureEnvironments.from_structure_environments(\n",
    "    strategy=strategy, structure_environments=se\n",
    ")\n",
    "isite = 0\n",
    "# first index is site index\n",
    "# second index is to get the single element of the list\n",
    "lse.neighbors_sets[0][0]"
   ]
  },
  {
   "cell_type": "code",
   "execution_count": 23,
   "metadata": {},
   "outputs": [
    {
     "data": {
      "text/plain": [
       "{'site': PeriodicNeighbor: S10 (S) (3.734, -1.375, 1.34) [0.6994, -0.2172, 0.08576],\n",
       " 'index': 10}"
      ]
     },
     "execution_count": 23,
     "metadata": {},
     "output_type": "execute_result"
    }
   ],
   "source": [
    "lse.neighbors_sets[0][0].neighb_sites_and_indices[0]"
   ]
  }
 ],
 "metadata": {
  "kernelspec": {
   "display_name": "Python 3 (ipykernel)",
   "language": "python",
   "name": "python3"
  },
  "language_info": {
   "codemirror_mode": {
    "name": "ipython",
    "version": 3
   },
   "file_extension": ".py",
   "mimetype": "text/x-python",
   "name": "python",
   "nbconvert_exporter": "python",
   "pygments_lexer": "ipython3",
   "version": "3.11.6"
  },
  "orig_nbformat": 4
 },
 "nbformat": 4,
 "nbformat_minor": 2
}
