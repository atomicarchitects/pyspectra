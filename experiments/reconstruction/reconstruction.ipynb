{
 "cells": [
  {
   "cell_type": "code",
   "execution_count": null,
   "metadata": {},
   "outputs": [],
   "source": [
    "import sys\n",
    "import os\n",
    "import pickle\n",
    "import jax\n",
    "import jax.numpy as jnp\n",
    "from tqdm import tqdm\n",
    "\n",
    "project_root = os.path.abspath(os.path.join(os.getcwd(), '../..'))\n",
    "src_dir = os.path.join(project_root, 'src')\n",
    "sys.path.append(src_dir)\n",
    "\n",
    "import spectra as spectra\n",
    "from utils.alignment import align_signals, find_best_random_quaternion\n",
    "\n",
    "\n",
    "lmax = 4\n",
    "order = 2\n",
    "chunk = 0\n",
    "\n",
    "with open('../../data/qm9_local_envs_10000.pkl', 'rb') as f:\n",
    "    local_envs = pickle.load(f)\n",
    "\n",
    "local_envs = local_envs[chunk*1000:(chunk+1)*1000]\n",
    "\n",
    "key = jax.random.PRNGKey(0)\n",
    "\n",
    "print(f\"lmax = {lmax}, order = {order}\")\n",
    "\n",
    "# Initialize the spectrum\n",
    "spectrum = spectra.Spectra(lmax=lmax, order=order)\n",
    "\n",
    "total_error = 0\n",
    "for local_env in tqdm(local_envs):\n",
    "    # Convert the local environment to a jax array\n",
    "    local_env = jnp.array(local_env)\n",
    "    \n",
    "    # Compute the signal of the local environment \n",
    "    local_env_signal = spectra.sum_of_diracs(local_env, lmax)\n",
    "    \n",
    "    # Compute the spectrum of the local environment\n",
    "    local_env_spectrum = spectrum.compute_geometry_spectra(local_env)\n",
    "\n",
    "    # Invert the spectrum to get the predicted geometry\n",
    "    predicted_geometry = spectrum.invert(local_env_spectrum)\n",
    "\n",
    "    # Compute the signal of the predicted geometry\n",
    "    predicted_signal = spectra.sum_of_diracs(predicted_geometry, lmax)\n",
    "\n",
    "    # Align the predicted signal with the local environment signal\n",
    "    initial_quaternion = find_best_random_quaternion(\n",
    "        key, predicted_signal, local_env_signal)\n",
    "    _, error = align_signals(predicted_signal, local_env_signal, initial_quaternion)\n",
    "\n",
    "    # Add to the total error\n",
    "    total_error += error\n",
    "\n",
    "reconstruction_error = total_error / len(local_envs)\n",
    "print(f\"Reconstruction error: {reconstruction_error}\")"
   ]
  },
  {
   "cell_type": "markdown",
   "metadata": {},
   "source": [
    "in name: lmax, order, chunk\n",
    "in df/csv: "
   ]
  }
 ],
 "metadata": {
  "language_info": {
   "name": "python"
  }
 },
 "nbformat": 4,
 "nbformat_minor": 2
}
