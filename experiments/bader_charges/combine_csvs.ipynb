{
 "cells": [
  {
   "cell_type": "code",
   "execution_count": 24,
   "metadata": {},
   "outputs": [
    {
     "name": "stderr",
     "output_type": "stream",
     "text": [
      "  0%|          | 0/113 [00:00<?, ?it/s]"
     ]
    },
    {
     "name": "stderr",
     "output_type": "stream",
     "text": [
      "100%|██████████| 113/113 [00:01<00:00, 73.23it/s]\n",
      "100%|██████████| 113/113 [00:01<00:00, 57.73it/s]\n"
     ]
    },
    {
     "ename": "",
     "evalue": "",
     "output_type": "error",
     "traceback": [
      "\u001b[1;31mThe Kernel crashed while executing code in the current cell or a previous cell. \n",
      "\u001b[1;31mPlease review the code in the cell(s) to identify a possible cause of the failure. \n",
      "\u001b[1;31mClick <a href='https://aka.ms/vscodeJupyterKernelCrash'>here</a> for more info. \n",
      "\u001b[1;31mView Jupyter <a href='command:jupyter.viewOutput'>log</a> for further details."
     ]
    }
   ],
   "source": [
    "import pandas as pd\n",
    "import glob\n",
    "from tqdm import tqdm\n",
    "\n",
    "# Get all CSV files in the directory\n",
    "lmax_4_csv_files = glob.glob('../../data/aflow/bispectra_bader_charges/aflow_bispectra_lmax_4_*.csv')\n",
    "lmax_5_csv_files = glob.glob('../../data/aflow/bispectra_bader_charges/aflow_bispectra_lmax_5_*.csv')\n",
    "\n",
    "# Initialize an empty list to store dataframes\n",
    "lmax_4_dfs = []\n",
    "lmax_5_dfs = []\n",
    "\n",
    "# Read and combine all CSV files\n",
    "for csv_file in tqdm(lmax_4_csv_files):\n",
    "    df = pd.read_csv(csv_file)\n",
    "    lmax_4_dfs.append(df)\n",
    "\n",
    "for csv_file in tqdm(lmax_5_csv_files):\n",
    "    df = pd.read_csv(csv_file)\n",
    "    lmax_5_dfs.append(df)\n",
    "\n",
    "# Concatenate all dataframes\n",
    "combined_lmax_4_df = pd.concat(lmax_4_dfs, ignore_index=True)\n",
    "combined_lmax_5_df = pd.concat(lmax_5_dfs, ignore_index=True)\n",
    "\n",
    "# Take first 100000 rows for main dataset\n",
    "combined_lmax_4_100k_df = combined_lmax_4_df.head(100000)\n",
    "combined_lmax_5_100k_df = combined_lmax_5_df.head(100000)\n",
    "\n",
    "# Take first 1000 rows for mini dataset\n",
    "combined_lmax_4_1k_df = combined_lmax_4_df.head(1000)   \n",
    "combined_lmax_5_1k_df = combined_lmax_5_df.head(1000)   \n",
    "\n",
    "# Save combined dataframes\n",
    "lmax_4_100k_output_path = '../../data/aflow/aflow_bispectra_lmax_4_100k.csv'\n",
    "lmax_5_100k_output_path = '../../data/aflow/aflow_bispectra_lmax_5_100k.csv'\n",
    "lmax_4_1k_output_path = '../../data/aflow/aflow_bispectra_lmax_4_1k.csv'\n",
    "lmax_5_1k_output_path = '../../data/aflow/aflow_bispectra_lmax_5_1k.csv'\n",
    "\n",
    "combined_lmax_4_100k_df.to_csv(lmax_4_100k_output_path, index=False)\n",
    "combined_lmax_5_100k_df.to_csv(lmax_5_100k_output_path, index=False)\n",
    "combined_lmax_4_1k_df.to_csv(lmax_4_1k_output_path, index=False)\n",
    "combined_lmax_5_1k_df.to_csv(lmax_5_1k_output_path, index=False)\n"
   ]
  }
 ],
 "metadata": {
  "kernelspec": {
   "display_name": "venv",
   "language": "python",
   "name": "python3"
  },
  "language_info": {
   "codemirror_mode": {
    "name": "ipython",
    "version": 3
   },
   "file_extension": ".py",
   "mimetype": "text/x-python",
   "name": "python",
   "nbconvert_exporter": "python",
   "pygments_lexer": "ipython3",
   "version": "3.10.12"
  }
 },
 "nbformat": 4,
 "nbformat_minor": 2
}
