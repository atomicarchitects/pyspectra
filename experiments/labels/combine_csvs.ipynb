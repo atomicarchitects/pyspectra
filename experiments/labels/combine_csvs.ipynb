{
 "cells": [
  {
   "cell_type": "code",
   "execution_count": 2,
   "metadata": {},
   "outputs": [
    {
     "name": "stderr",
     "output_type": "stream",
     "text": [
      "100%|██████████| 19/19 [00:05<00:00,  3.59it/s]\n"
     ]
    },
    {
     "name": "stdout",
     "output_type": "stream",
     "text": [
      "Combined 19 CSV files into ../../data/mp/mp_bispectra_labels_lmax_5.csv and ../../data/mp/mp_bispectra_labels_lmax_5_mini.csv\n",
      "Total rows in main dataset: 18373\n",
      "Total rows in mini dataset: 1000\n"
     ]
    }
   ],
   "source": [
    "import pandas as pd\n",
    "import glob\n",
    "from tqdm import tqdm\n",
    "\n",
    "# Get all CSV files in the directory\n",
    "lmax = 5\n",
    "csv_files = glob.glob(f'../../data/mp/bispectra_labels/mp_bispectra_labels_lmax_{lmax}*')\n",
    "\n",
    "# Initialize an empty list to store dataframes\n",
    "dfs = []\n",
    "\n",
    "# Read and combine all CSV files\n",
    "for csv_file in tqdm(csv_files):\n",
    "    df = pd.read_csv(csv_file)\n",
    "    dfs.append(df)\n",
    "\n",
    "# Concatenate all dataframes\n",
    "combined_df = pd.concat(dfs, ignore_index=True)\n",
    "\n",
    "# Take first 1000 rows for mini dataset\n",
    "combined_df_mini = combined_df.head(1000)\n",
    "\n",
    "# Save combined dataframes\n",
    "main_output_path = f'../../data/mp/mp_bispectra_labels_lmax_{lmax}.csv'\n",
    "mini_output_path = f'../../data/mp/mp_bispectra_labels_lmax_{lmax}_mini.csv'\n",
    "\n",
    "combined_df.to_csv(main_output_path, index=False)\n",
    "combined_df_mini.to_csv(mini_output_path, index=False)\n",
    "\n",
    "print(f\"Combined {len(csv_files)} CSV files into {main_output_path} and {mini_output_path}\")\n",
    "print(f\"Total rows in main dataset: {len(combined_df)}\")\n",
    "print(f\"Total rows in mini dataset: {len(combined_df_mini)}\")\n"
   ]
  }
 ],
 "metadata": {
  "kernelspec": {
   "display_name": "venv",
   "language": "python",
   "name": "python3"
  },
  "language_info": {
   "codemirror_mode": {
    "name": "ipython",
    "version": 3
   },
   "file_extension": ".py",
   "mimetype": "text/x-python",
   "name": "python",
   "nbconvert_exporter": "python",
   "pygments_lexer": "ipython3",
   "version": "3.10.12"
  }
 },
 "nbformat": 4,
 "nbformat_minor": 2
}
