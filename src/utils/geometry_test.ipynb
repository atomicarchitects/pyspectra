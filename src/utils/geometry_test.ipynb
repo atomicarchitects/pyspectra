{
 "cells": [
  {
   "cell_type": "code",
   "execution_count": 1,
   "metadata": {},
   "outputs": [],
   "source": [
    "from geometries import *"
   ]
  },
  {
   "cell_type": "code",
   "execution_count": 2,
   "metadata": {},
   "outputs": [
    {
     "data": {
      "text/plain": [
       "60"
      ]
     },
     "execution_count": 2,
     "metadata": {},
     "output_type": "execute_result"
    }
   ],
   "source": [
    "len(geometry_dict)"
   ]
  },
  {
   "cell_type": "code",
   "execution_count": 3,
   "metadata": {},
   "outputs": [
    {
     "name": "stderr",
     "output_type": "stream",
     "text": [
      "/home/gridsan/tphung/pyspectra/venv/lib/python3.10/site-packages/tqdm/auto.py:21: TqdmWarning: IProgress not found. Please update jupyter and ipywidgets. See https://ipywidgets.readthedocs.io/en/stable/user_install.html\n",
      "  from .autonotebook import tqdm as notebook_tqdm\n"
     ]
    }
   ],
   "source": [
    "from matminer.featurizers.site import ChemEnvSiteFingerprint\n",
    "\n",
    "csf = ChemEnvSiteFingerprint.from_preset(\"multi_weights\")\n",
    "labels = csf.feature_labels()"
   ]
  },
  {
   "cell_type": "code",
   "execution_count": 5,
   "metadata": {},
   "outputs": [
    {
     "data": {
      "text/plain": [
       "66"
      ]
     },
     "execution_count": 5,
     "metadata": {},
     "output_type": "execute_result"
    }
   ],
   "source": [
    "len(labels)"
   ]
  },
  {
   "cell_type": "code",
   "execution_count": 4,
   "metadata": {},
   "outputs": [
    {
     "name": "stdout",
     "output_type": "stream",
     "text": [
      "['S:1', 'L:2', 'A:2', 'TL:3', 'TY:3', 'TS:3', 'T:4', 'S:4', 'SY:4', 'SS:4', 'PP:5', 'S:5', 'T:5', 'O:6', 'T:6', 'PP:6', 'PB:7', 'ST:7', 'ET:7', 'FO:7', 'C:8', 'SA:8', 'SBT:8', 'TBT:8', 'DD:8', 'DDPN:8', 'HB:8', 'BO_1:8', 'BO_2:8', 'BO_3:8', 'TC:9', 'TT_1:9', 'TT_2:9', 'TT_3:9', 'HD:9', 'TI:9', 'SMA:9', 'SS:9', 'TO_1:9', 'TO_2:9', 'TO_3:9', 'PP:10', 'PA:10', 'SBSA:10', 'MI:10', 'S:10', 'H:10', 'BS_1:10', 'BS_2:10', 'TBSA:10', 'PCPA:11', 'H:11', 'SH:11', 'CO:11', 'DI:11', 'I:12', 'PBP:12', 'TT:12', 'C:12', 'AC:12', 'SC:12', 'S:12', 'HP:12', 'HA:12', 'SH:13', 'DD:20']\n"
     ]
    }
   ],
   "source": [
    "print(labels)"
   ]
  },
  {
   "cell_type": "code",
   "execution_count": null,
   "metadata": {},
   "outputs": [],
   "source": [
    "dodecahedron = jnp.array([\n",
    "    [1.0, 1.0, 1.0], \n",
    "    [1.0, 1.0, -1.0], \n",
    "    [1.0, -1.0, 1.0], \n",
    "    [1.0, -1.0, -1.0], \n",
    "    [-1.0, 1.0, 1.0], \n",
    "    [-1.0, 1.0, -1.0], \n",
    "    [-1.0, -1.0, 1.0], \n",
    "    [-1.0, -1.0, -1.0], \n",
    "    [0.0, 1.618033988749895, 0.6180339887498948], \n",
    "    [0.0, 1.618033988749895, -0.6180339887498948], \n",
    "    [0.0, -1.618033988749895, 0.6180339887498948], \n",
    "    [0.0, -1.618033988749895, -0.6180339887498948], \n",
    "    [0.6180339887498948, 0.0, 1.618033988749895], \n",
    "    [0.6180339887498948, 0.0, -1.618033988749895], \n",
    "    [-0.6180339887498948, 0.0, 1.618033988749895], \n",
    "    [-0.6180339887498948, 0.0, -1.618033988749895], \n",
    "    [1.618033988749895, 0.6180339887498948, 0.0], \n",
    "    [1.618033988749895, -0.6180339887498948, 0.0], \n",
    "    [-1.618033988749895, 0.6180339887498948, 0.0], \n",
    "    [-1.618033988749895, -0.6180339887498948, 0.0]\n",
    "])"
   ]
  },
  {
   "cell_type": "code",
   "execution_count": 6,
   "metadata": {},
   "outputs": [
    {
     "data": {
      "text/plain": [
       "{'CO:11',\n",
       " 'DD:20',\n",
       " 'H:10',\n",
       " 'S:10',\n",
       " 'S:12',\n",
       " 'SH:11',\n",
       " 'TT_1:9',\n",
       " 'TT_2:9',\n",
       " 'TT_3:9'}"
      ]
     },
     "execution_count": 6,
     "metadata": {},
     "output_type": "execute_result"
    }
   ],
   "source": [
    "set(labels) - set(geometry_dict.keys())"
   ]
  }
 ],
 "metadata": {
  "kernelspec": {
   "display_name": "venv",
   "language": "python",
   "name": "python3"
  },
  "language_info": {
   "codemirror_mode": {
    "name": "ipython",
    "version": 3
   },
   "file_extension": ".py",
   "mimetype": "text/x-python",
   "name": "python",
   "nbconvert_exporter": "python",
   "pygments_lexer": "ipython3",
   "version": "3.10.12"
  }
 },
 "nbformat": 4,
 "nbformat_minor": 2
}
